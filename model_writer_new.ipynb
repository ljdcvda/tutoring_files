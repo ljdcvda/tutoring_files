{
 "cells": [
  {
   "cell_type": "markdown",
   "metadata": {},
   "source": [
    "# Variables\n",
    "* Binary variable A(h, n) for h=1to5, for n=1to4\n",
    "* Binary variable B(h, n) for h=1to5, for n=0to3\n",
    "* Binary variable C(h, n) for h=1to5, for n=0to4\n",
    "* Binary variable D(h, n) for h=1to5, for n=0to1\n",
    "* Integer variable N(h) for h=1to5 \n",
    "\n",
    "# Constraints\n",
    "## Variable bounds\n",
    "* all A, B, C, D between 0 and 1\n",
    "* N between 0 and 170 \n",
    "\n",
    "## Consistency / Only one possible choice for how many you assign\n",
    "* SUM(A(h, n) for n=1to4) == 1, for h=1to5\n",
    "* SUM(B(h, n) for n=0to3) == 1, for h=1to5\n",
    "* SUM(C(h, n) for n=0to4) == 1, for h=1to5\n",
    "* SUM(D(h, n) for n=0to1) == 1, for h=1to5\n",
    "\n",
    "## Maximum total specialist\n",
    "* SUM(n*A(h, n) for h=1to5, for n=1to4) <= 8\n",
    "* SUM(n*B(h, n) for h=1to5, for n=0to3) <= 3\n",
    "* SUM(n*C(h, n) for h=1to5, for n=0to4) <= 4\n",
    "* SUM(n*D(h, n) for h=1to5, for n=0to1) <= 3\n",
    "* SUM(N(h) for h=1to5) <= 250\n",
    "\n",
    "## At least one of type B OR C\n",
    "* B(h, 0) + C(h, 0) <=1 , for h=1to5\n",
    "\n",
    "\n",
    "# Objective Function\n",
    "MAXIMIZE\n",
    "SUM(\n",
    "A(h, 1) * 0 + A(h, 2) * 7 + A(h, 3) * 11 + A(h, 4) * 14\n",
    "+ B(h, 0) * 0 + ...\n",
    "+ C(h, 0) * 0 + ...\n",
    "+ D(h, 0) * 0 + ...\n",
    "+ N(h)\n",
    ") for h=1to5"
   ]
  },
  {
   "cell_type": "code",
   "execution_count": null,
   "metadata": {},
   "outputs": [],
   "source": [
    "N(1) = 20\n",
    "N(2) = 30\n",
    "\n",
    "benefit = N(1) + N(2) + ..."
   ]
  },
  {
   "cell_type": "code",
   "execution_count": 97,
   "metadata": {},
   "outputs": [],
   "source": [
    "import pulp as plp"
   ]
  },
  {
   "cell_type": "code",
   "execution_count": 98,
   "metadata": {},
   "outputs": [],
   "source": [
    "specialists = 5\n",
    "hospitals = 5"
   ]
  },
  {
   "cell_type": "code",
   "execution_count": 99,
   "metadata": {},
   "outputs": [],
   "source": [
    "range_A = range(1,5)\n",
    "range_B = range(0,4)\n",
    "range_B_except_first = range(1,4)\n",
    "range_C = range(0,5)\n",
    "range_C_except_first = range(1,5)\n",
    "range_D = range(0,2)\n",
    "range_H = range(1,hospitals+1)"
   ]
  },
  {
   "cell_type": "code",
   "execution_count": 100,
   "metadata": {},
   "outputs": [],
   "source": [
    "benefits_A = [0, 7, 11, 14, 16, 18, 19, 21]\n",
    "benefits_B = [0, 1, 2, 5]\n",
    "benefits_C = [0, 0, 1, 3, 5]\n",
    "benefits_D = [0, 2]"
   ]
  },
  {
   "cell_type": "code",
   "execution_count": 112,
   "metadata": {},
   "outputs": [
    {
     "name": "stdout",
     "output_type": "stream",
     "text": [
      "Model Hospital status: Optimal\n"
     ]
    }
   ],
   "source": [
    "opt_model = None\n",
    "opt_model = plp.LpProblem(name='Hospital')\n",
    "opt_model\n",
    "\n",
    "# variables\n",
    "#     variable tracking the assignment of each type to each hospital\n",
    "A = {(h,n): plp.LpVariable(cat='Binary', name=\"A_{0}_{1}\".format(h,n))\n",
    "                             for h in range_H for n in range_A}\n",
    "B = {(h,n): plp.LpVariable(cat='Binary', name=\"B_{0}_{1}\".format(h,n))\n",
    "                             for h in range_H for n in range_B}\n",
    "C = {(h,n): plp.LpVariable(cat='Binary', name=\"C_{0}_{1}\".format(h,n))\n",
    "                             for h in range_H for n in range_C}\n",
    "D = {(h,n): plp.LpVariable(cat='Binary', name=\"D_{0}_{1}\".format(h,n))\n",
    "                             for h in range_H for n in range_D}\n",
    "N = {(h): plp.LpVariable(cat='Integer', name=\"N_{0}\".format(h), lowBound=20, upBound=250) for h in range_H}\n",
    "\n",
    "# constraints\n",
    "for h in range_H:\n",
    "# at least one of B or C\n",
    "#     opt_model += plp.lpSum(B[h,n] for n in range_B_except_first) + plp.lpSum(C[h,n] for n in range_C_except_first) >=1, \"1_type_BorC_min_for_H{0}\".format(h)\n",
    "    opt_model += B[h,0] + C[h,0] <= 1, \"1_type_BorC_min_for_H{0}\".format(h)\n",
    "\n",
    "# all binaries for same specialist are exclusive\n",
    "    opt_model += plp.lpSum(A[h,n] for n in range_A)==1, \"only_1_bin_A_for_H{0}\".format(h)\n",
    "    opt_model += plp.lpSum(B[h,n] for n in range_B)==1, \"only_1_bin_B_for_H{0}\".format(h)\n",
    "    opt_model += plp.lpSum(C[h,n] for n in range_C)==1, \"only_1_bin_C_for_H{0}\".format(h)\n",
    "    opt_model += plp.lpSum(D[h,n] for n in range_D)==1, \"only_1_bin_D_for_H{0}\".format(h)\n",
    "\n",
    "# sum accross all binaries*their count value of \n",
    "# same specialist across all hospitals is smaller than maximum\n",
    "opt_model += plp.lpSum(n*A[h,n] for n in range_A for h in range_H)<=8, \"limit_on_A\"\n",
    "opt_model += plp.lpSum(n*B[h,n] for n in range_B for h in range_H)<=3, \"limit_on_B\"\n",
    "opt_model += plp.lpSum(n*C[h,n] for n in range_C for h in range_H)<=4, \"limit_on_C\"\n",
    "opt_model += plp.lpSum(n*D[h,n] for n in range_D for h in range_H)<=3, \"limit_on_D\"\n",
    "opt_model += plp.lpSum(N[h] for h in range_H)<=250, \"limit_on_N\"\n",
    "\n",
    "\n",
    "\n",
    "# objective\n",
    "objective = plp.lpSum(N[h] for h in range_H)\n",
    "objective += plp.lpSum(benefits_A[n-1]*A[h,n] for n in range_A for h in range_H)\n",
    "objective += plp.lpSum(benefits_B[n]*B[h,n] for n in range_B for h in range_H)\n",
    "objective += plp.lpSum(benefits_C[n]*C[h,n] for n in range_C for h in range_H)\n",
    "objective += plp.lpSum(benefits_D[n]*D[h,n] for n in range_D for h in range_H)\n",
    "\n",
    "opt_model.sense = plp.LpMaximize\n",
    "opt_model.setObjective(objective)\n",
    "\n",
    "opt_model.writeLP('model_new.lp')\n",
    "\n",
    "opt_model.solve()\n",
    "print(\"Model {} status: {}\".format(opt_model.name, plp.LpStatus[opt_model.status]))\n",
    "solution = {}\n",
    "for var in opt_model.variables():\n",
    "    solution[var.name] = var.value()"
   ]
  },
  {
   "cell_type": "code",
   "execution_count": 111,
   "metadata": {},
   "outputs": [
    {
     "name": "stdout",
     "output_type": "stream",
     "text": [
      "\n",
      " Hospital 1\n",
      "2 type A specialists\n",
      "0 type B specialists\n",
      "3 type C specialists\n",
      "1 type D specialists\n",
      "20.0 Nurse Practitioners\n",
      "\n",
      " Hospital 2\n",
      "1 type A specialists\n",
      "1 type B specialists\n",
      "0 type C specialists\n",
      "0 type D specialists\n",
      "20.0 Nurse Practitioners\n",
      "\n",
      " Hospital 3\n",
      "2 type A specialists\n",
      "1 type B specialists\n",
      "0 type C specialists\n",
      "0 type D specialists\n",
      "20.0 Nurse Practitioners\n",
      "\n",
      " Hospital 4\n",
      "2 type A specialists\n",
      "1 type B specialists\n",
      "0 type C specialists\n",
      "1 type D specialists\n",
      "20.0 Nurse Practitioners\n",
      "\n",
      " Hospital 5\n",
      "1 type A specialists\n",
      "0 type B specialists\n",
      "1 type C specialists\n",
      "1 type D specialists\n",
      "170.0 Nurse Practitioners\n"
     ]
    }
   ],
   "source": [
    "for h in range_H:\n",
    "    print('\\n Hospital', h)\n",
    "    for n in range_A:\n",
    "        if solution['A_'+str(h)+'_'+str(n)]>=1:\n",
    "            print(n,'type A specialists')\n",
    "    for n in range_B:\n",
    "        if solution['B_'+str(h)+'_'+str(n)]>=1:\n",
    "            print(n,'type B specialists')\n",
    "    for n in range_C:\n",
    "        if solution['C_'+str(h)+'_'+str(n)]>=1:\n",
    "            print(n,'type C specialists')\n",
    "    for n in range_D:\n",
    "        if solution['D_'+str(h)+'_'+str(n)]>=1:\n",
    "            print(n,'type D specialists')\n",
    "    print(solution['N_'+str(h)],'Nurse Practitioners')\n"
   ]
  },
  {
   "cell_type": "code",
   "execution_count": 109,
   "metadata": {},
   "outputs": [
    {
     "data": {
      "text/plain": [
       "283.0"
      ]
     },
     "execution_count": 109,
     "metadata": {},
     "output_type": "execute_result"
    }
   ],
   "source": [
    "plp.value(opt_model.objective)"
   ]
  },
  {
   "cell_type": "markdown",
   "metadata": {},
   "source": [
    "# EXTENSION B"
   ]
  },
  {
   "cell_type": "markdown",
   "metadata": {},
   "source": [
    "## New Variable\n",
    "* Binary variable E(h, n) for h=1to5, for n=0to5\n",
    "\n",
    "# New Constraint\n",
    "## Consistency\n",
    "* SUM(E(h, n) for n=0to1) == 1, for h=1to5\n",
    "\n",
    "## Maximum total specialist E\n",
    "* SUM(n*E(h, n) for h=1to5, for n=0to5) <= 5\n",
    "\n",
    "## Only E if type C assigned\n",
    "* SUM(E(h, n) for n=1to5) <= 1-C(h, 0), for h=1to5\n",
    "\n",
    "# Objective \n",
    " * ORIGINAL OBJECTIVE + E(h, 0) * 0 + ..."
   ]
  },
  {
   "cell_type": "markdown",
   "metadata": {},
   "source": [
    "# EXTENSION C\n",
    "\n",
    "MAXIMIZE\n",
    "    ORIGINAL OBJECTIVE +\n",
    "    N(h)*B(h,1) + N(h)*B(h,2)+ N(h)*B(h,3) +N(h)*B(h,4)\n",
    "    \n",
    "Becomes non-linear, let's abandon it"
   ]
  }
 ],
 "metadata": {
  "kernelspec": {
   "display_name": "Python 3",
   "language": "python",
   "name": "python3"
  },
  "language_info": {
   "codemirror_mode": {
    "name": "ipython",
    "version": 3
   },
   "file_extension": ".py",
   "mimetype": "text/x-python",
   "name": "python",
   "nbconvert_exporter": "python",
   "pygments_lexer": "ipython3",
   "version": "3.7.3"
  }
 },
 "nbformat": 4,
 "nbformat_minor": 4
}
