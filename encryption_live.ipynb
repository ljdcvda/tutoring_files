{
 "cells": [
  {
   "cell_type": "markdown",
   "metadata": {},
   "source": [
    "# Encryption"
   ]
  },
  {
   "cell_type": "code",
   "execution_count": 77,
   "metadata": {
    "scrolled": false
   },
   "outputs": [
    {
     "data": {
      "text/plain": [
       "65"
      ]
     },
     "execution_count": 77,
     "metadata": {},
     "output_type": "execute_result"
    }
   ],
   "source": [
    "ord('A')"
   ]
  },
  {
   "cell_type": "code",
   "execution_count": 78,
   "metadata": {
    "scrolled": true
   },
   "outputs": [
    {
     "data": {
      "text/plain": [
       "90"
      ]
     },
     "execution_count": 78,
     "metadata": {},
     "output_type": "execute_result"
    }
   ],
   "source": [
    "ord('Z')"
   ]
  },
  {
   "cell_type": "code",
   "execution_count": 79,
   "metadata": {},
   "outputs": [
    {
     "data": {
      "text/plain": [
       "97"
      ]
     },
     "execution_count": 79,
     "metadata": {},
     "output_type": "execute_result"
    }
   ],
   "source": [
    "ord('a')"
   ]
  },
  {
   "cell_type": "code",
   "execution_count": 80,
   "metadata": {},
   "outputs": [
    {
     "data": {
      "text/plain": [
       "122"
      ]
     },
     "execution_count": 80,
     "metadata": {},
     "output_type": "execute_result"
    }
   ],
   "source": [
    "ord('z')"
   ]
  },
  {
   "cell_type": "code",
   "execution_count": 81,
   "metadata": {},
   "outputs": [
    {
     "data": {
      "text/plain": [
       "'d'"
      ]
     },
     "execution_count": 81,
     "metadata": {},
     "output_type": "execute_result"
    }
   ],
   "source": [
    "shift = 3\n",
    "\n",
    "chr(ord('a')+shift)"
   ]
  },
  {
   "cell_type": "code",
   "execution_count": 82,
   "metadata": {},
   "outputs": [
    {
     "data": {
      "text/plain": [
       "'}'"
      ]
     },
     "execution_count": 82,
     "metadata": {},
     "output_type": "execute_result"
    }
   ],
   "source": [
    "shift = 3\n",
    "\n",
    "chr(ord('z')+shift)"
   ]
  },
  {
   "cell_type": "code",
   "execution_count": 83,
   "metadata": {},
   "outputs": [
    {
     "data": {
      "text/plain": [
       "'h'"
      ]
     },
     "execution_count": 83,
     "metadata": {},
     "output_type": "execute_result"
    }
   ],
   "source": [
    "shift = 7\n",
    "chr(ord('a')+shift)"
   ]
  },
  {
   "cell_type": "code",
   "execution_count": 84,
   "metadata": {},
   "outputs": [
    {
     "data": {
      "text/plain": [
       "'g'"
      ]
     },
     "execution_count": 84,
     "metadata": {},
     "output_type": "execute_result"
    }
   ],
   "source": [
    "shift = 7\n",
    "chr(ord('z')+shift-26)"
   ]
  },
  {
   "cell_type": "code",
   "execution_count": 85,
   "metadata": {
    "scrolled": true
   },
   "outputs": [
    {
     "data": {
      "text/plain": [
       "104"
      ]
     },
     "execution_count": 85,
     "metadata": {},
     "output_type": "execute_result"
    }
   ],
   "source": [
    "ord('a')+shift"
   ]
  },
  {
   "cell_type": "code",
   "execution_count": 86,
   "metadata": {},
   "outputs": [
    {
     "data": {
      "text/plain": [
       "129"
      ]
     },
     "execution_count": 86,
     "metadata": {},
     "output_type": "execute_result"
    }
   ],
   "source": [
    "ord('z')+shift"
   ]
  },
  {
   "cell_type": "code",
   "execution_count": 87,
   "metadata": {},
   "outputs": [
    {
     "data": {
      "text/plain": [
       "2"
      ]
     },
     "execution_count": 87,
     "metadata": {},
     "output_type": "execute_result"
    }
   ],
   "source": [
    "5 % 3"
   ]
  },
  {
   "cell_type": "code",
   "execution_count": 88,
   "metadata": {
    "scrolled": true
   },
   "outputs": [
    {
     "data": {
      "text/plain": [
       "'h'"
      ]
     },
     "execution_count": 88,
     "metadata": {},
     "output_type": "execute_result"
    }
   ],
   "source": [
    "original_char = 'Z'\n",
    "shift = 14\n",
    "shift = shift % 26\n",
    "new_number = ord(original_char) + shift\n",
    "if new_number > 122:\n",
    "    new_number-= 26\n",
    "chr(new_number)"
   ]
  },
  {
   "cell_type": "code",
   "execution_count": 89,
   "metadata": {},
   "outputs": [
    {
     "data": {
      "text/plain": [
       "False"
      ]
     },
     "execution_count": 89,
     "metadata": {},
     "output_type": "execute_result"
    }
   ],
   "source": [
    "'%%#$'.isalpha()"
   ]
  },
  {
   "cell_type": "code",
   "execution_count": 90,
   "metadata": {},
   "outputs": [
    {
     "data": {
      "text/plain": [
       "4"
      ]
     },
     "execution_count": 90,
     "metadata": {},
     "output_type": "execute_result"
    }
   ],
   "source": [
    "-100 %26"
   ]
  },
  {
   "cell_type": "code",
   "execution_count": 91,
   "metadata": {},
   "outputs": [],
   "source": [
    "with open('melville-moby-106.txt') as f:\n",
    "    text = f.read().splitlines()\n",
    "    \n",
    "# text"
   ]
  },
  {
   "cell_type": "code",
   "execution_count": 92,
   "metadata": {},
   "outputs": [],
   "source": [
    "shift = 15\n",
    "\n",
    "with open('melville-moby-106.txt') as f:\n",
    "    text = f.read().splitlines()\n",
    "\n",
    "shift = shift % 26\n",
    "\n",
    "new_text = []\n",
    "for line in text:\n",
    "    new_line = ''\n",
    "    for char in line:\n",
    "        if char.isalpha():\n",
    "            if char.islower():\n",
    "                new_number = ord(char) + shift\n",
    "                if new_number > 122:\n",
    "                    new_number-= 26\n",
    "            else:\n",
    "                new_number = ord(char) + shift\n",
    "                if new_number > 90:\n",
    "                    new_number-= 26\n",
    "            new_char = chr(new_number)\n",
    "        else:\n",
    "            new_char = char\n",
    "                    \n",
    "        new_line+=new_char\n",
    "    new_text.append(new_line)\n",
    "            \n",
    "# new_text\n",
    "    "
   ]
  },
  {
   "cell_type": "code",
   "execution_count": 93,
   "metadata": {},
   "outputs": [
    {
     "data": {
      "text/plain": [
       "'hello_friend'"
      ]
     },
     "execution_count": 93,
     "metadata": {},
     "output_type": "execute_result"
    }
   ],
   "source": [
    "'_'.join(['hello', 'friend'])"
   ]
  },
  {
   "cell_type": "code",
   "execution_count": 94,
   "metadata": {},
   "outputs": [],
   "source": [
    "with open('encrypted.txt', 'w') as f:\n",
    "    f.write(\"\\n\".join(new_text))   "
   ]
  },
  {
   "cell_type": "code",
   "execution_count": 95,
   "metadata": {},
   "outputs": [],
   "source": [
    "with open('encrypted.txt') as f:\n",
    "    text = f.read().splitlines()\n",
    "# text"
   ]
  },
  {
   "cell_type": "code",
   "execution_count": 96,
   "metadata": {},
   "outputs": [
    {
     "data": {
      "text/plain": [
       "{'B': 665,\n",
       " 'D': 739,\n",
       " 'Q': 1369,\n",
       " 'N': 275,\n",
       " 'S': 637,\n",
       " 'X': 3280,\n",
       " 'R': 1044,\n",
       " 'Z': 145,\n",
       " 'G': 649,\n",
       " 'I': 2183,\n",
       " 'W': 1214,\n",
       " 'T': 847,\n",
       " 'L': 1242,\n",
       " 'P': 2369,\n",
       " 'A': 734,\n",
       " 'q': 15497,\n",
       " 'n': 16586,\n",
       " 't': 116224,\n",
       " 'g': 51470,\n",
       " 'b': 22605,\n",
       " 'p': 75497,\n",
       " 'c': 64653,\n",
       " 'a': 42040,\n",
       " 'k': 8466,\n",
       " 'x': 62104,\n",
       " 'V': 535,\n",
       " 'H': 1972,\n",
       " 'j': 26407,\n",
       " 'e': 16256,\n",
       " 's': 37568,\n",
       " 'i': 85749,\n",
       " 'd': 68556,\n",
       " 'h': 62207,\n",
       " 'J': 155,\n",
       " 'w': 61666,\n",
       " 'r': 21457,\n",
       " 'l': 20974,\n",
       " 'v': 20268,\n",
       " 'm': 1013,\n",
       " 'f': 1234,\n",
       " 'z': 7913,\n",
       " 'u': 20067,\n",
       " 'C': 936,\n",
       " 'K': 136,\n",
       " 'U': 745,\n",
       " 'E': 987,\n",
       " 'M': 18,\n",
       " 'Y': 250,\n",
       " 'o': 623,\n",
       " 'F': 319,\n",
       " 'y': 828,\n",
       " 'O': 23}"
      ]
     },
     "execution_count": 96,
     "metadata": {},
     "output_type": "execute_result"
    }
   ],
   "source": [
    "char_frequencies = {}\n",
    "for line in text:\n",
    "    for char in line:\n",
    "        if char.isalpha():\n",
    "            if char in char_frequencies:\n",
    "                char_frequencies[char] +=1\n",
    "            else:\n",
    "                char_frequencies[char] = 1\n",
    "char_frequencies"
   ]
  },
  {
   "cell_type": "code",
   "execution_count": 97,
   "metadata": {},
   "outputs": [
    {
     "data": {
      "text/plain": [
       "'t'"
      ]
     },
     "execution_count": 97,
     "metadata": {},
     "output_type": "execute_result"
    }
   ],
   "source": [
    "most_freq_char = max(char_frequencies, key=char_frequencies.get)\n",
    "most_freq_char"
   ]
  },
  {
   "cell_type": "code",
   "execution_count": 98,
   "metadata": {},
   "outputs": [],
   "source": [
    "shift = -(ord(most_freq_char) - ord('e'))"
   ]
  },
  {
   "cell_type": "code",
   "execution_count": 99,
   "metadata": {},
   "outputs": [
    {
     "data": {
      "text/plain": [
       "-15"
      ]
     },
     "execution_count": 99,
     "metadata": {},
     "output_type": "execute_result"
    }
   ],
   "source": [
    "shift = shift %-26\n",
    "shift"
   ]
  },
  {
   "cell_type": "code",
   "execution_count": 100,
   "metadata": {},
   "outputs": [],
   "source": [
    "new_text = []\n",
    "for line in text:\n",
    "    new_line = ''\n",
    "    for char in line:\n",
    "        if char.isalpha():\n",
    "            if char.isupper():\n",
    "                if (ord(char)+shift) <65:\n",
    "                    new_char = chr(ord(char)+shift+26)\n",
    "                else:\n",
    "                    new_char = chr(ord(char)+shift)       \n",
    "            else:\n",
    "                if (ord(char)+shift) <97:\n",
    "                    new_char = chr(ord(char)+shift+26)\n",
    "                else:\n",
    "                    new_char = chr(ord(char)+shift)              \n",
    "        else:\n",
    "            new_char = char  \n",
    "\n",
    "        new_line+=new_char\n",
    "\n",
    "    new_text.append(new_line)   \n",
    "\n",
    "# print('\\n'.join(new_text))"
   ]
  }
 ],
 "metadata": {
  "kernelspec": {
   "display_name": "Python 3",
   "language": "python",
   "name": "python3"
  },
  "language_info": {
   "codemirror_mode": {
    "name": "ipython",
    "version": 3
   },
   "file_extension": ".py",
   "mimetype": "text/x-python",
   "name": "python",
   "nbconvert_exporter": "python",
   "pygments_lexer": "ipython3",
   "version": "3.7.3"
  }
 },
 "nbformat": 4,
 "nbformat_minor": 4
}
