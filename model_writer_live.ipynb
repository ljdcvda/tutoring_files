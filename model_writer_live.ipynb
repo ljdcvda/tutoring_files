{
 "cells": [
  {
   "cell_type": "code",
   "execution_count": 4,
   "metadata": {},
   "outputs": [
    {
     "data": {
      "text/plain": [
       "Hospital:\n",
       "MINIMIZE\n",
       "None\n",
       "VARIABLES"
      ]
     },
     "execution_count": 4,
     "metadata": {},
     "output_type": "execute_result"
    }
   ],
   "source": [
    "import pulp as plp\n",
    "opt_model = None\n",
    "opt_model = plp.LpProblem(name='Hospital')\n",
    "opt_model"
   ]
  },
  {
   "cell_type": "markdown",
   "metadata": {},
   "source": [
    "i = specialist number (A=1, B=2 ... Nurse= 5)\n",
    "j = hospital number "
   ]
  },
  {
   "cell_type": "markdown",
   "metadata": {},
   "source": [
    "# Constraints\n",
    "#### No negative values\n",
    "x(i,j) >= 0 for 1<i<5, for 1<j<5 \n",
    "\n",
    "#### At least 20 nurse each hospital\n",
    "x(5,j) >= 20 for 1<j<5 \n",
    "\n",
    "#### At least one type A each hospital\n",
    "x(1,j) >= 1 for j in 1 to 5\n",
    "\n",
    "#### At least one type B OR C in each hospital\n",
    "x(2,j) + x(3,j) >=1 for 1<j<=5 \n",
    "\n",
    "#### At most one type D each hospital\n",
    "x(4,j) <= 1 for 1<j<=5 \n",
    "\n",
    "\n",
    "#### Sum of specialist A accross all hospitals <= 8\n",
    "SUM,j=1to5(x(1,j)) <= 8\n",
    "#### Sum of specialist B accross all hospitals <= 8\n",
    "SUM,j=1to5(x(2,j)) <= 3\n",
    "#### Sum of specialist C accross all hospitals <= 8\n",
    "SUM,j=1to5(x(3,j)) <= 4\n",
    "#### Sum of specialist D accross all hospitals <= 8\n",
    "SUM,j=1to5(x(4,j)) <= 3\n",
    "#### Sum of specialist Nurse accross all hospitals <= 8\n",
    "SUM,j=1to5(x(5,j)) <= 250\n",
    "\n"
   ]
  },
  {
   "cell_type": "code",
   "execution_count": 8,
   "metadata": {},
   "outputs": [],
   "source": [
    "specialists = 5\n",
    "hospitals = 5\n",
    "specialists_max = [8, 3, 4, 3, 250]"
   ]
  },
  {
   "cell_type": "code",
   "execution_count": 9,
   "metadata": {},
   "outputs": [],
   "source": [
    "# variables\n",
    "#     variable tracking the assignment of each type to each hospital\n",
    "x = {(s,h): plp.LpVariable(cat='Integer', name=\"x_{0}_{1}\".format(h,s), lowBound=0)\n",
    "                             for h in range(hospitals) for s in range(specialists)}\n",
    "\n",
    "# constraints\n",
    "for s in range(specialists):\n",
    "    opt_model += plp.lpSum(x[h,s] for h in range(hospitals)) <= specialists_max[s] , \"specialist_max_{0}\".format(s)\n",
    " \n",
    "\n",
    "for h in range(hospitals):\n",
    "    opt_model += x[4,h] >= 20 , \"20_nurses_min_for_hospital{0}\".format(h)\n",
    "    opt_model += x[0,h] >= 1 , \"1_type_A_min_for_hospital{0}\".format(h)\n",
    "    opt_model += x[1,h] + x[2,h] >= 1 , \"1_type_BorC_min_for_hospital{0}\".format(h)\n",
    "    opt_model += x[3,h] <= 1 , \"1_type_D_max_for_hospital{0}\".format(h)"
   ]
  },
  {
   "cell_type": "code",
   "execution_count": null,
   "metadata": {},
   "outputs": [],
   "source": []
  },
  {
   "cell_type": "code",
   "execution_count": 10,
   "metadata": {},
   "outputs": [],
   "source": [
    "opt_model.writeLP('model.lp')"
   ]
  }
 ],
 "metadata": {
  "kernelspec": {
   "display_name": "Python 3",
   "language": "python",
   "name": "python3"
  },
  "language_info": {
   "codemirror_mode": {
    "name": "ipython",
    "version": 3
   },
   "file_extension": ".py",
   "mimetype": "text/x-python",
   "name": "python",
   "nbconvert_exporter": "python",
   "pygments_lexer": "ipython3",
   "version": "3.7.3"
  }
 },
 "nbformat": 4,
 "nbformat_minor": 4
}
