{
 "cells": [
  {
   "cell_type": "markdown",
   "metadata": {},
   "source": [
    "# as functions"
   ]
  },
  {
   "cell_type": "code",
   "execution_count": 7,
   "metadata": {},
   "outputs": [],
   "source": [
    "from os import path\n",
    "\n",
    "def encrypt(filename, shift):\n",
    "    \n",
    "    if not isinstance(shift, int):\n",
    "        raise ValueError(\"Shift must be integer\")\n",
    "    if not path.exists(filename):\n",
    "        raise IOError('No such file')\n",
    "        \n",
    "    with open(filename) as f:\n",
    "        text = f.read().splitlines()\n",
    "    \n",
    "    shift = shift %26\n",
    "    new_text = []\n",
    "    for line in text:\n",
    "        new_line = ''\n",
    "        for char in line:\n",
    "            if char.isalpha():\n",
    "                if char.isupper():\n",
    "                    if (ord(char)+shift) >90:\n",
    "                        new_char = chr(ord(char)+shift-26)\n",
    "                    else:\n",
    "                        new_char = chr(ord(char)+shift)       \n",
    "                else:\n",
    "                    if (ord(char)+shift) >122:\n",
    "                        new_char = chr(ord(char)+shift-26)\n",
    "                    else:\n",
    "                        new_char = chr(ord(char)+shift)              \n",
    "            else:\n",
    "                new_char = char  \n",
    "                \n",
    "            new_line+=new_char\n",
    "            \n",
    "        new_text.append(new_line)   \n",
    "        \n",
    "    with open('encrypted.txt', 'w') as f:\n",
    "        f.write(\"\\n\".join(new_text))   "
   ]
  },
  {
   "cell_type": "code",
   "execution_count": 8,
   "metadata": {},
   "outputs": [],
   "source": [
    "def decrypt(filename):\n",
    "\n",
    "    if not path.exists(filename):\n",
    "        raise IOError('No such file')\n",
    "        \n",
    "    with open(filename) as f:\n",
    "        encrypted = f.read().splitlines()\n",
    "        \n",
    "    encrypted_single_string = ''.join(encrypted)\n",
    "    char_freq_dict = {}\n",
    "    for char in encrypted_single_string:\n",
    "        if char.isalpha():\n",
    "            if char in char_freq_dict:\n",
    "                char_freq_dict[char] +=1\n",
    "            else:\n",
    "                char_freq_dict[char] =1\n",
    "                \n",
    "    most_freq_char = max(char_freq_dict, key=char_freq_dict.get)\n",
    "    shift = -(ord(most_freq_char) - ord('e'))\n",
    "    shift = shift %-26\n",
    "    new_text = []\n",
    "    for line in encrypted:\n",
    "        new_line = ''\n",
    "        for char in line:\n",
    "            if char.isalpha():\n",
    "                if char.isupper():\n",
    "                    if (ord(char)+shift) <65:\n",
    "                        new_char = chr(ord(char)+shift+26)\n",
    "                    else:\n",
    "                        new_char = chr(ord(char)+shift)       \n",
    "                else:\n",
    "                    if (ord(char)+shift) <97:\n",
    "                        new_char = chr(ord(char)+shift+26)\n",
    "                    else:\n",
    "                        new_char = chr(ord(char)+shift)              \n",
    "            else:\n",
    "                new_char = char  \n",
    "                \n",
    "            new_line+=new_char\n",
    "            \n",
    "        new_text.append(new_line)   \n",
    "    \n",
    "#     print('\\n'.join(new_text))\n",
    "    "
   ]
  },
  {
   "cell_type": "code",
   "execution_count": 9,
   "metadata": {},
   "outputs": [],
   "source": [
    "import random\n",
    "encrypt('melville-moby-106.txt', random.randint(-100,100))"
   ]
  },
  {
   "cell_type": "code",
   "execution_count": 10,
   "metadata": {},
   "outputs": [],
   "source": [
    "decrypt('encrypted.txt')"
   ]
  }
 ],
 "metadata": {
  "kernelspec": {
   "display_name": "Python 3",
   "language": "python",
   "name": "python3"
  },
  "language_info": {
   "codemirror_mode": {
    "name": "ipython",
    "version": 3
   },
   "file_extension": ".py",
   "mimetype": "text/x-python",
   "name": "python",
   "nbconvert_exporter": "python",
   "pygments_lexer": "ipython3",
   "version": "3.7.3"
  }
 },
 "nbformat": 4,
 "nbformat_minor": 4
}
